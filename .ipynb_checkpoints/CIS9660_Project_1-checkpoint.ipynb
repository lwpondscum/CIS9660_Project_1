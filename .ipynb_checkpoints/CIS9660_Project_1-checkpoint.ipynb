{
 "cells": [
  {
   "cell_type": "code",
   "execution_count": 1,
   "id": "8c981747",
   "metadata": {},
   "outputs": [],
   "source": [
    "#import necessary packages: pandas, matplotlib, seaborn, and sklearn\n",
    "import pandas as pd\n",
    "import matplotlib.pyplot as plt\n",
    "import seaborn as sns\n",
    "import numpy as np\n",
    "from sklearn import metrics\n",
    "from sklearn.model_selection import train_test_split\n",
    "from sklearn.model_selection import KFold\n",
    "from sklearn.model_selection import StratifiedKFold\n",
    "from sklearn.preprocessing import StandardScaler\n",
    "from sklearn.metrics import classification_report\n",
    "from sklearn.model_selection import cross_val_score\n",
    "from sklearn.metrics import accuracy_score\n",
    "from sklearn.neighbors import KNeighborsClassifier\n",
    "from sklearn.naive_bayes import GaussianNB\n",
    "from sklearn.linear_model import LogisticRegression\n",
    "from sklearn import svm\n",
    "from sklearn.tree import DecisionTreeClassifier\n",
    "from sklearn.ensemble import RandomForestClassifier\n",
    "\n",
    "#change to seaborn's color style\n",
    "sns.set(color_codes = True)\n",
    "\n",
    "#remove output warnings\n",
    "import warnings\n",
    "warnings.filterwarnings(\"ignore\")"
   ]
  },
  {
   "cell_type": "code",
   "execution_count": 2,
   "id": "a32241f4",
   "metadata": {},
   "outputs": [],
   "source": [
    "#import data\n",
    "#source: https://data.cityofnewyork.us/Public-Safety/NYPD-Use-of-Force-Incidents/f4tj-796d\n",
    "#source: https://data.cityofnewyork.us/Public-Safety/NYPD-Use-of-Force-Subjects/dufe-vxb7\n",
    "#source: https://data.cityofnewyork.us/Public-Safety/NYPD-Use-of-Force-Members-of-Service/v5jd-6wqn\n",
    "incidents = pd.read_csv('https://raw.githubusercontent.com/lwpondscum/CIS9660_Project_1/main/NYPD_Use_of_Force_Incidents.csv')\n",
    "subjects = pd.read_csv('https://raw.githubusercontent.com/lwpondscum/CIS9660_Project_1/main/NYPD_Use_of_Force__Subjects.csv')\n",
    "officers = pd.read_csv('https://raw.githubusercontent.com/lwpondscum/CIS9660_Project_1/main/NYPD_Use_of_Force__Members_of_Service.csv')"
   ]
  },
  {
   "cell_type": "markdown",
   "id": "18f3ba96",
   "metadata": {},
   "source": [
    "# Preview of Data"
   ]
  },
  {
   "cell_type": "code",
   "execution_count": 3,
   "id": "c38c3524",
   "metadata": {},
   "outputs": [
    {
     "data": {
      "text/html": [
       "<div>\n",
       "<style scoped>\n",
       "    .dataframe tbody tr th:only-of-type {\n",
       "        vertical-align: middle;\n",
       "    }\n",
       "\n",
       "    .dataframe tbody tr th {\n",
       "        vertical-align: top;\n",
       "    }\n",
       "\n",
       "    .dataframe thead th {\n",
       "        text-align: right;\n",
       "    }\n",
       "</style>\n",
       "<table border=\"1\" class=\"dataframe\">\n",
       "  <thead>\n",
       "    <tr style=\"text-align: right;\">\n",
       "      <th></th>\n",
       "      <th>TRI Incident Number</th>\n",
       "      <th>ForceType</th>\n",
       "      <th>Occurrence Date</th>\n",
       "      <th>Incident Pct</th>\n",
       "      <th>Patrol Borough</th>\n",
       "      <th>YearMonthShort</th>\n",
       "      <th>BasisForEncounter</th>\n",
       "    </tr>\n",
       "  </thead>\n",
       "  <tbody>\n",
       "    <tr>\n",
       "      <th>0</th>\n",
       "      <td>2020062962016</td>\n",
       "      <td>Physical Force</td>\n",
       "      <td>01/01/2020</td>\n",
       "      <td>43</td>\n",
       "      <td>PBBX</td>\n",
       "      <td>2020 Jan</td>\n",
       "      <td>CRIME/VIOLATION IN PROGRESS</td>\n",
       "    </tr>\n",
       "    <tr>\n",
       "      <th>1</th>\n",
       "      <td>2020094962018</td>\n",
       "      <td>Physical Force</td>\n",
       "      <td>01/03/2020</td>\n",
       "      <td>75</td>\n",
       "      <td>PBBN</td>\n",
       "      <td>2020 Jan</td>\n",
       "      <td>CRIME/VIOLATION IN PROGRESS</td>\n",
       "    </tr>\n",
       "    <tr>\n",
       "      <th>2</th>\n",
       "      <td>2020094962022</td>\n",
       "      <td>Physical Force</td>\n",
       "      <td>01/06/2020</td>\n",
       "      <td>75</td>\n",
       "      <td>PBBN</td>\n",
       "      <td>2020 Jan</td>\n",
       "      <td>CRIME/VIOLATION IN PROGRESS</td>\n",
       "    </tr>\n",
       "    <tr>\n",
       "      <th>3</th>\n",
       "      <td>2020025962018</td>\n",
       "      <td>Physical Force</td>\n",
       "      <td>01/07/2020</td>\n",
       "      <td>6</td>\n",
       "      <td>PBMS</td>\n",
       "      <td>2020 Jan</td>\n",
       "      <td>CRIME/VIOLATION IN PROGRESS</td>\n",
       "    </tr>\n",
       "    <tr>\n",
       "      <th>4</th>\n",
       "      <td>2020020962025</td>\n",
       "      <td>Physical Force</td>\n",
       "      <td>01/22/2020</td>\n",
       "      <td>1</td>\n",
       "      <td>PBMS</td>\n",
       "      <td>2020 Jan</td>\n",
       "      <td>CRIME/VIOLATION IN PROGRESS</td>\n",
       "    </tr>\n",
       "  </tbody>\n",
       "</table>\n",
       "</div>"
      ],
      "text/plain": [
       "   TRI Incident Number       ForceType Occurrence Date  Incident Pct  \\\n",
       "0        2020062962016  Physical Force      01/01/2020            43   \n",
       "1        2020094962018  Physical Force      01/03/2020            75   \n",
       "2        2020094962022  Physical Force      01/06/2020            75   \n",
       "3        2020025962018  Physical Force      01/07/2020             6   \n",
       "4        2020020962025  Physical Force      01/22/2020             1   \n",
       "\n",
       "  Patrol Borough YearMonthShort            BasisForEncounter  \n",
       "0           PBBX       2020 Jan  CRIME/VIOLATION IN PROGRESS  \n",
       "1           PBBN       2020 Jan  CRIME/VIOLATION IN PROGRESS  \n",
       "2           PBBN       2020 Jan  CRIME/VIOLATION IN PROGRESS  \n",
       "3           PBMS       2020 Jan  CRIME/VIOLATION IN PROGRESS  \n",
       "4           PBMS       2020 Jan  CRIME/VIOLATION IN PROGRESS  "
      ]
     },
     "execution_count": 3,
     "metadata": {},
     "output_type": "execute_result"
    }
   ],
   "source": [
    "#preview data\n",
    "incidents.head()"
   ]
  },
  {
   "cell_type": "code",
   "execution_count": 4,
   "id": "d40c9f01",
   "metadata": {},
   "outputs": [
    {
     "name": "stdout",
     "output_type": "stream",
     "text": [
      "<class 'pandas.core.frame.DataFrame'>\n",
      "RangeIndex: 17740 entries, 0 to 17739\n",
      "Data columns (total 7 columns):\n",
      " #   Column               Non-Null Count  Dtype \n",
      "---  ------               --------------  ----- \n",
      " 0   TRI Incident Number  17740 non-null  int64 \n",
      " 1   ForceType            17740 non-null  object\n",
      " 2   Occurrence Date      17740 non-null  object\n",
      " 3   Incident Pct         17740 non-null  int64 \n",
      " 4   Patrol Borough       17739 non-null  object\n",
      " 5   YearMonthShort       17740 non-null  object\n",
      " 6   BasisForEncounter    17740 non-null  object\n",
      "dtypes: int64(2), object(5)\n",
      "memory usage: 970.3+ KB\n"
     ]
    }
   ],
   "source": [
    "incidents.info()"
   ]
  },
  {
   "cell_type": "code",
   "execution_count": 5,
   "id": "44bc7f3c",
   "metadata": {},
   "outputs": [
    {
     "data": {
      "text/html": [
       "<div>\n",
       "<style scoped>\n",
       "    .dataframe tbody tr th:only-of-type {\n",
       "        vertical-align: middle;\n",
       "    }\n",
       "\n",
       "    .dataframe tbody tr th {\n",
       "        vertical-align: top;\n",
       "    }\n",
       "\n",
       "    .dataframe thead th {\n",
       "        text-align: right;\n",
       "    }\n",
       "</style>\n",
       "<table border=\"1\" class=\"dataframe\">\n",
       "  <thead>\n",
       "    <tr style=\"text-align: right;\">\n",
       "      <th></th>\n",
       "      <th>TRI Incident Number</th>\n",
       "      <th>Subject Injury Level</th>\n",
       "      <th>Subject Injured</th>\n",
       "      <th>Age</th>\n",
       "      <th>Subject Race</th>\n",
       "      <th>Subject Gender</th>\n",
       "      <th>Force Against MOS</th>\n",
       "      <th>Subject Used Force</th>\n",
       "    </tr>\n",
       "  </thead>\n",
       "  <tbody>\n",
       "    <tr>\n",
       "      <th>0</th>\n",
       "      <td>2020020962054</td>\n",
       "      <td>No Injury</td>\n",
       "      <td>N</td>\n",
       "      <td>28.0</td>\n",
       "      <td>BLACK</td>\n",
       "      <td>MALE</td>\n",
       "      <td>Physical Force</td>\n",
       "      <td>Y</td>\n",
       "    </tr>\n",
       "    <tr>\n",
       "      <th>1</th>\n",
       "      <td>2020020962062</td>\n",
       "      <td>No Injury</td>\n",
       "      <td>N</td>\n",
       "      <td>28.0</td>\n",
       "      <td>BLACK</td>\n",
       "      <td>MALE</td>\n",
       "      <td>Physical Force</td>\n",
       "      <td>Y</td>\n",
       "    </tr>\n",
       "    <tr>\n",
       "      <th>2</th>\n",
       "      <td>2020024962101</td>\n",
       "      <td>No Injury</td>\n",
       "      <td>N</td>\n",
       "      <td>28.0</td>\n",
       "      <td>BLACK</td>\n",
       "      <td>MALE</td>\n",
       "      <td>Physical Force</td>\n",
       "      <td>Y</td>\n",
       "    </tr>\n",
       "    <tr>\n",
       "      <th>3</th>\n",
       "      <td>2020024962121</td>\n",
       "      <td>No Injury</td>\n",
       "      <td>N</td>\n",
       "      <td>28.0</td>\n",
       "      <td>BLACK</td>\n",
       "      <td>MALE</td>\n",
       "      <td>Physical Force</td>\n",
       "      <td>Y</td>\n",
       "    </tr>\n",
       "    <tr>\n",
       "      <th>4</th>\n",
       "      <td>2020028962025</td>\n",
       "      <td>No Injury</td>\n",
       "      <td>N</td>\n",
       "      <td>28.0</td>\n",
       "      <td>BLACK</td>\n",
       "      <td>MALE</td>\n",
       "      <td>Physical Force</td>\n",
       "      <td>Y</td>\n",
       "    </tr>\n",
       "  </tbody>\n",
       "</table>\n",
       "</div>"
      ],
      "text/plain": [
       "   TRI Incident Number Subject Injury Level Subject Injured   Age  \\\n",
       "0        2020020962054            No Injury               N  28.0   \n",
       "1        2020020962062            No Injury               N  28.0   \n",
       "2        2020024962101            No Injury               N  28.0   \n",
       "3        2020024962121            No Injury               N  28.0   \n",
       "4        2020028962025            No Injury               N  28.0   \n",
       "\n",
       "  Subject Race Subject Gender Force Against MOS Subject Used Force  \n",
       "0        BLACK           MALE    Physical Force                  Y  \n",
       "1        BLACK           MALE    Physical Force                  Y  \n",
       "2        BLACK           MALE    Physical Force                  Y  \n",
       "3        BLACK           MALE    Physical Force                  Y  \n",
       "4        BLACK           MALE    Physical Force                  Y  "
      ]
     },
     "execution_count": 5,
     "metadata": {},
     "output_type": "execute_result"
    }
   ],
   "source": [
    "#preview data\n",
    "subjects.head()"
   ]
  },
  {
   "cell_type": "code",
   "execution_count": 6,
   "id": "9136d91f",
   "metadata": {},
   "outputs": [
    {
     "name": "stdout",
     "output_type": "stream",
     "text": [
      "<class 'pandas.core.frame.DataFrame'>\n",
      "RangeIndex: 17514 entries, 0 to 17513\n",
      "Data columns (total 8 columns):\n",
      " #   Column                Non-Null Count  Dtype  \n",
      "---  ------                --------------  -----  \n",
      " 0   TRI Incident Number   17514 non-null  int64  \n",
      " 1   Subject Injury Level  17514 non-null  object \n",
      " 2   Subject Injured       17514 non-null  object \n",
      " 3   Age                   16802 non-null  float64\n",
      " 4   Subject Race          17514 non-null  object \n",
      " 5   Subject Gender        17514 non-null  object \n",
      " 6   Force Against MOS     17514 non-null  object \n",
      " 7   Subject Used Force    17514 non-null  object \n",
      "dtypes: float64(1), int64(1), object(6)\n",
      "memory usage: 1.1+ MB\n"
     ]
    }
   ],
   "source": [
    "subjects.info()"
   ]
  },
  {
   "cell_type": "code",
   "execution_count": 7,
   "id": "71c9a513",
   "metadata": {},
   "outputs": [
    {
     "data": {
      "text/html": [
       "<div>\n",
       "<style scoped>\n",
       "    .dataframe tbody tr th:only-of-type {\n",
       "        vertical-align: middle;\n",
       "    }\n",
       "\n",
       "    .dataframe tbody tr th {\n",
       "        vertical-align: top;\n",
       "    }\n",
       "\n",
       "    .dataframe thead th {\n",
       "        text-align: right;\n",
       "    }\n",
       "</style>\n",
       "<table border=\"1\" class=\"dataframe\">\n",
       "  <thead>\n",
       "    <tr style=\"text-align: right;\">\n",
       "      <th></th>\n",
       "      <th>TRI Incident Number</th>\n",
       "      <th>ForceType</th>\n",
       "      <th>InjuryLevel</th>\n",
       "      <th>Member Injured</th>\n",
       "      <th>Rank Grouped</th>\n",
       "      <th>Assignment</th>\n",
       "      <th>Member Gender</th>\n",
       "      <th>Race</th>\n",
       "    </tr>\n",
       "  </thead>\n",
       "  <tbody>\n",
       "    <tr>\n",
       "      <th>0</th>\n",
       "      <td>2020020962018</td>\n",
       "      <td>Physical Force</td>\n",
       "      <td>No Injury</td>\n",
       "      <td>N</td>\n",
       "      <td>Police Officer</td>\n",
       "      <td>SECTOR/RESPONSE AUTO</td>\n",
       "      <td>MALE</td>\n",
       "      <td>WHITE</td>\n",
       "    </tr>\n",
       "    <tr>\n",
       "      <th>1</th>\n",
       "      <td>2020020962018</td>\n",
       "      <td>Physical Force</td>\n",
       "      <td>No Injury</td>\n",
       "      <td>N</td>\n",
       "      <td>Police Officer</td>\n",
       "      <td>SECTOR/RESPONSE AUTO</td>\n",
       "      <td>MALE</td>\n",
       "      <td>WHITE</td>\n",
       "    </tr>\n",
       "    <tr>\n",
       "      <th>2</th>\n",
       "      <td>2020020962021</td>\n",
       "      <td>Physical Force</td>\n",
       "      <td>No Injury</td>\n",
       "      <td>N</td>\n",
       "      <td>Police Officer</td>\n",
       "      <td>SECTOR/RESPONSE AUTO</td>\n",
       "      <td>MALE</td>\n",
       "      <td>WHITE</td>\n",
       "    </tr>\n",
       "    <tr>\n",
       "      <th>3</th>\n",
       "      <td>2020020962022</td>\n",
       "      <td>Physical Force</td>\n",
       "      <td>No Injury</td>\n",
       "      <td>N</td>\n",
       "      <td>Police Officer</td>\n",
       "      <td>SECTOR/RESPONSE AUTO</td>\n",
       "      <td>MALE</td>\n",
       "      <td>WHITE</td>\n",
       "    </tr>\n",
       "    <tr>\n",
       "      <th>4</th>\n",
       "      <td>2020020962025</td>\n",
       "      <td>Physical Force</td>\n",
       "      <td>No Injury</td>\n",
       "      <td>N</td>\n",
       "      <td>Police Officer</td>\n",
       "      <td>SECTOR/RESPONSE AUTO</td>\n",
       "      <td>MALE</td>\n",
       "      <td>WHITE</td>\n",
       "    </tr>\n",
       "  </tbody>\n",
       "</table>\n",
       "</div>"
      ],
      "text/plain": [
       "   TRI Incident Number       ForceType InjuryLevel Member Injured  \\\n",
       "0        2020020962018  Physical Force   No Injury              N   \n",
       "1        2020020962018  Physical Force   No Injury              N   \n",
       "2        2020020962021  Physical Force   No Injury              N   \n",
       "3        2020020962022  Physical Force   No Injury              N   \n",
       "4        2020020962025  Physical Force   No Injury              N   \n",
       "\n",
       "     Rank Grouped            Assignment Member Gender   Race  \n",
       "0  Police Officer  SECTOR/RESPONSE AUTO          MALE  WHITE  \n",
       "1  Police Officer  SECTOR/RESPONSE AUTO          MALE  WHITE  \n",
       "2  Police Officer  SECTOR/RESPONSE AUTO          MALE  WHITE  \n",
       "3  Police Officer  SECTOR/RESPONSE AUTO          MALE  WHITE  \n",
       "4  Police Officer  SECTOR/RESPONSE AUTO          MALE  WHITE  "
      ]
     },
     "execution_count": 7,
     "metadata": {},
     "output_type": "execute_result"
    }
   ],
   "source": [
    "#preview data\n",
    "officers.head()"
   ]
  },
  {
   "cell_type": "code",
   "execution_count": 8,
   "id": "7d216062",
   "metadata": {},
   "outputs": [
    {
     "name": "stdout",
     "output_type": "stream",
     "text": [
      "<class 'pandas.core.frame.DataFrame'>\n",
      "RangeIndex: 41681 entries, 0 to 41680\n",
      "Data columns (total 8 columns):\n",
      " #   Column               Non-Null Count  Dtype \n",
      "---  ------               --------------  ----- \n",
      " 0   TRI Incident Number  41681 non-null  int64 \n",
      " 1   ForceType            41681 non-null  object\n",
      " 2   InjuryLevel          41681 non-null  object\n",
      " 3   Member Injured       41681 non-null  object\n",
      " 4   Rank Grouped         41681 non-null  object\n",
      " 5   Assignment           41681 non-null  object\n",
      " 6   Member Gender        41681 non-null  object\n",
      " 7   Race                 41681 non-null  object\n",
      "dtypes: int64(1), object(7)\n",
      "memory usage: 2.5+ MB\n"
     ]
    }
   ],
   "source": [
    "officers.info()"
   ]
  },
  {
   "cell_type": "code",
   "execution_count": 9,
   "id": "70f6ae3e",
   "metadata": {},
   "outputs": [
    {
     "name": "stdout",
     "output_type": "stream",
     "text": [
      "<class 'pandas.core.frame.DataFrame'>\n",
      "Int64Index: 17514 entries, 0 to 17513\n",
      "Data columns (total 14 columns):\n",
      " #   Column                Non-Null Count  Dtype  \n",
      "---  ------                --------------  -----  \n",
      " 0   TRI Incident Number   17514 non-null  int64  \n",
      " 1   ForceType             17514 non-null  object \n",
      " 2   Occurrence Date       17514 non-null  object \n",
      " 3   Incident Pct          17514 non-null  int64  \n",
      " 4   Patrol Borough        17513 non-null  object \n",
      " 5   YearMonthShort        17514 non-null  object \n",
      " 6   BasisForEncounter     17514 non-null  object \n",
      " 7   Subject Injury Level  17514 non-null  object \n",
      " 8   Subject Injured       17514 non-null  object \n",
      " 9   Age                   16802 non-null  float64\n",
      " 10  Subject Race          17514 non-null  object \n",
      " 11  Subject Gender        17514 non-null  object \n",
      " 12  Force Against MOS     17514 non-null  object \n",
      " 13  Subject Used Force    17514 non-null  object \n",
      "dtypes: float64(1), int64(2), object(11)\n",
      "memory usage: 2.0+ MB\n"
     ]
    }
   ],
   "source": [
    "incidents_subjects = incidents.merge(subjects, how = 'inner', on = 'TRI Incident Number')\n",
    "incidents_subjects.info()"
   ]
  },
  {
   "cell_type": "code",
   "execution_count": 10,
   "id": "dfda11fb",
   "metadata": {},
   "outputs": [
    {
     "name": "stdout",
     "output_type": "stream",
     "text": [
      "<class 'pandas.core.frame.DataFrame'>\n",
      "Int64Index: 43207 entries, 0 to 43206\n",
      "Data columns (total 21 columns):\n",
      " #   Column                Non-Null Count  Dtype  \n",
      "---  ------                --------------  -----  \n",
      " 0   TRI Incident Number   43207 non-null  int64  \n",
      " 1   ForceTypeSubject      43207 non-null  object \n",
      " 2   Occurrence Date       43207 non-null  object \n",
      " 3   Incident Pct          43207 non-null  int64  \n",
      " 4   Patrol Borough        43206 non-null  object \n",
      " 5   YearMonthShort        43207 non-null  object \n",
      " 6   BasisForEncounter     43207 non-null  object \n",
      " 7   Subject Injury Level  43207 non-null  object \n",
      " 8   Subject Injured       43207 non-null  object \n",
      " 9   Age                   41680 non-null  float64\n",
      " 10  Subject Race          43207 non-null  object \n",
      " 11  Subject Gender        43207 non-null  object \n",
      " 12  Force Against MOS     43207 non-null  object \n",
      " 13  Subject Used Force    43207 non-null  object \n",
      " 14  ForceTypeOfficer      43207 non-null  object \n",
      " 15  InjuryLevel           43207 non-null  object \n",
      " 16  Member Injured        43207 non-null  object \n",
      " 17  Rank Grouped          43207 non-null  object \n",
      " 18  Assignment            43207 non-null  object \n",
      " 19  Member Gender         43207 non-null  object \n",
      " 20  Race                  43207 non-null  object \n",
      "dtypes: float64(1), int64(2), object(18)\n",
      "memory usage: 7.3+ MB\n"
     ]
    }
   ],
   "source": [
    "incidents_merge = incidents_subjects.merge(officers, how = 'inner', on = 'TRI Incident Number', suffixes = ['Subject', 'Officer'])\n",
    "incidents_merge.info()"
   ]
  },
  {
   "cell_type": "code",
   "execution_count": 11,
   "id": "e85e7415",
   "metadata": {},
   "outputs": [
    {
     "data": {
      "text/html": [
       "<div>\n",
       "<style scoped>\n",
       "    .dataframe tbody tr th:only-of-type {\n",
       "        vertical-align: middle;\n",
       "    }\n",
       "\n",
       "    .dataframe tbody tr th {\n",
       "        vertical-align: top;\n",
       "    }\n",
       "\n",
       "    .dataframe thead th {\n",
       "        text-align: right;\n",
       "    }\n",
       "</style>\n",
       "<table border=\"1\" class=\"dataframe\">\n",
       "  <thead>\n",
       "    <tr style=\"text-align: right;\">\n",
       "      <th></th>\n",
       "      <th>TRI Incident Number</th>\n",
       "      <th>Incident Pct</th>\n",
       "      <th>Age</th>\n",
       "    </tr>\n",
       "  </thead>\n",
       "  <tbody>\n",
       "    <tr>\n",
       "      <th>count</th>\n",
       "      <td>4.320700e+04</td>\n",
       "      <td>43207.000000</td>\n",
       "      <td>41680.000000</td>\n",
       "    </tr>\n",
       "    <tr>\n",
       "      <th>mean</th>\n",
       "      <td>2.020978e+12</td>\n",
       "      <td>63.872521</td>\n",
       "      <td>30.180974</td>\n",
       "    </tr>\n",
       "    <tr>\n",
       "      <th>std</th>\n",
       "      <td>7.784176e+08</td>\n",
       "      <td>34.063333</td>\n",
       "      <td>62.079283</td>\n",
       "    </tr>\n",
       "    <tr>\n",
       "      <th>min</th>\n",
       "      <td>2.020021e+12</td>\n",
       "      <td>1.000000</td>\n",
       "      <td>-7178.000000</td>\n",
       "    </tr>\n",
       "    <tr>\n",
       "      <th>25%</th>\n",
       "      <td>2.020099e+12</td>\n",
       "      <td>40.000000</td>\n",
       "      <td>23.000000</td>\n",
       "    </tr>\n",
       "    <tr>\n",
       "      <th>50%</th>\n",
       "      <td>2.021066e+12</td>\n",
       "      <td>63.000000</td>\n",
       "      <td>29.000000</td>\n",
       "    </tr>\n",
       "    <tr>\n",
       "      <th>75%</th>\n",
       "      <td>2.022025e+12</td>\n",
       "      <td>94.000000</td>\n",
       "      <td>37.000000</td>\n",
       "    </tr>\n",
       "    <tr>\n",
       "      <th>max</th>\n",
       "      <td>2.022575e+12</td>\n",
       "      <td>555.000000</td>\n",
       "      <td>85.000000</td>\n",
       "    </tr>\n",
       "  </tbody>\n",
       "</table>\n",
       "</div>"
      ],
      "text/plain": [
       "       TRI Incident Number  Incident Pct           Age\n",
       "count         4.320700e+04  43207.000000  41680.000000\n",
       "mean          2.020978e+12     63.872521     30.180974\n",
       "std           7.784176e+08     34.063333     62.079283\n",
       "min           2.020021e+12      1.000000  -7178.000000\n",
       "25%           2.020099e+12     40.000000     23.000000\n",
       "50%           2.021066e+12     63.000000     29.000000\n",
       "75%           2.022025e+12     94.000000     37.000000\n",
       "max           2.022575e+12    555.000000     85.000000"
      ]
     },
     "execution_count": 11,
     "metadata": {},
     "output_type": "execute_result"
    }
   ],
   "source": [
    "incidents_merge.describe()"
   ]
  },
  {
   "cell_type": "code",
   "execution_count": 12,
   "id": "f1eeb621",
   "metadata": {},
   "outputs": [],
   "source": [
    "#converts non-numeric values to numeric values for analysis\n",
    "#source: https://pythonprogramming.net/working-with-non-numerical-data-machine-learning-tutorial/\n",
    "def handle_non_numerical_data(df):\n",
    "    columns = df.columns.values\n",
    "    for column in columns:\n",
    "        text_digit_vals = {}\n",
    "        def convert_to_int(val):\n",
    "            return text_digit_vals[val]\n",
    "\n",
    "        if df[column].dtype != np.int64 and df[column].dtype != np.float64:\n",
    "            column_contents = df[column].values.tolist()\n",
    "            unique_elements = set(column_contents)\n",
    "            x = 0\n",
    "            for unique in unique_elements:\n",
    "                if unique not in text_digit_vals:\n",
    "                    text_digit_vals[unique] = x\n",
    "                    x+=1\n",
    "\n",
    "            df[column] = list(map(convert_to_int, df[column]))\n",
    "\n",
    "    return df"
   ]
  },
  {
   "cell_type": "code",
   "execution_count": 44,
   "id": "9623c163",
   "metadata": {},
   "outputs": [
    {
     "name": "stdout",
     "output_type": "stream",
     "text": [
      "<class 'pandas.core.frame.DataFrame'>\n",
      "Int64Index: 43207 entries, 0 to 43206\n",
      "Data columns (total 21 columns):\n",
      " #   Column                Non-Null Count  Dtype  \n",
      "---  ------                --------------  -----  \n",
      " 0   TRI Incident Number   43207 non-null  int64  \n",
      " 1   ForceTypeSubject      43207 non-null  int64  \n",
      " 2   Occurrence Date       43207 non-null  int64  \n",
      " 3   Incident Pct          43207 non-null  int64  \n",
      " 4   Patrol Borough        43207 non-null  int64  \n",
      " 5   YearMonthShort        43207 non-null  int64  \n",
      " 6   BasisForEncounter     43207 non-null  int64  \n",
      " 7   Subject Injury Level  43207 non-null  int64  \n",
      " 8   Subject Injured       43207 non-null  int64  \n",
      " 9   Age                   41680 non-null  float64\n",
      " 10  Subject Race          43207 non-null  int64  \n",
      " 11  Subject Gender        43207 non-null  int64  \n",
      " 12  Force Against MOS     43207 non-null  int64  \n",
      " 13  Subject Used Force    43207 non-null  int64  \n",
      " 14  ForceTypeOfficer      43207 non-null  int64  \n",
      " 15  InjuryLevel           43207 non-null  int64  \n",
      " 16  Member Injured        43207 non-null  int64  \n",
      " 17  Rank Grouped          43207 non-null  int64  \n",
      " 18  Assignment            43207 non-null  int64  \n",
      " 19  Member Gender         43207 non-null  int64  \n",
      " 20  Race                  43207 non-null  int64  \n",
      "dtypes: float64(1), int64(20)\n",
      "memory usage: 8.3 MB\n"
     ]
    }
   ],
   "source": [
    "incidents_numeric = incidents_merge.copy()\n",
    "\n",
    "handle_non_numerical_data(incidents_numeric)\n",
    "incidents_numeric.info()"
   ]
  },
  {
   "cell_type": "code",
   "execution_count": 14,
   "id": "fd692089",
   "metadata": {},
   "outputs": [
    {
     "data": {
      "text/html": [
       "<div>\n",
       "<style scoped>\n",
       "    .dataframe tbody tr th:only-of-type {\n",
       "        vertical-align: middle;\n",
       "    }\n",
       "\n",
       "    .dataframe tbody tr th {\n",
       "        vertical-align: top;\n",
       "    }\n",
       "\n",
       "    .dataframe thead th {\n",
       "        text-align: right;\n",
       "    }\n",
       "</style>\n",
       "<table border=\"1\" class=\"dataframe\">\n",
       "  <thead>\n",
       "    <tr style=\"text-align: right;\">\n",
       "      <th></th>\n",
       "      <th>TRI Incident Number</th>\n",
       "      <th>ForceTypeSubject</th>\n",
       "      <th>Occurrence Date</th>\n",
       "      <th>Incident Pct</th>\n",
       "      <th>Patrol Borough</th>\n",
       "      <th>YearMonthShort</th>\n",
       "      <th>BasisForEncounter</th>\n",
       "      <th>Subject Injury Level</th>\n",
       "      <th>Subject Injured</th>\n",
       "      <th>Age</th>\n",
       "      <th>...</th>\n",
       "      <th>Subject Gender</th>\n",
       "      <th>Force Against MOS</th>\n",
       "      <th>Subject Used Force</th>\n",
       "      <th>ForceTypeOfficer</th>\n",
       "      <th>InjuryLevel</th>\n",
       "      <th>Member Injured</th>\n",
       "      <th>Rank Grouped</th>\n",
       "      <th>Assignment</th>\n",
       "      <th>Member Gender</th>\n",
       "      <th>Race</th>\n",
       "    </tr>\n",
       "  </thead>\n",
       "  <tbody>\n",
       "    <tr>\n",
       "      <th>count</th>\n",
       "      <td>4.320700e+04</td>\n",
       "      <td>43207.000000</td>\n",
       "      <td>43207.000000</td>\n",
       "      <td>43207.000000</td>\n",
       "      <td>43207.000000</td>\n",
       "      <td>43207.000000</td>\n",
       "      <td>43207.000000</td>\n",
       "      <td>43207.000000</td>\n",
       "      <td>43207.000000</td>\n",
       "      <td>41680.000000</td>\n",
       "      <td>...</td>\n",
       "      <td>43207.000000</td>\n",
       "      <td>43207.000000</td>\n",
       "      <td>43207.000000</td>\n",
       "      <td>43207.000000</td>\n",
       "      <td>43207.000000</td>\n",
       "      <td>43207.000000</td>\n",
       "      <td>43207.000000</td>\n",
       "      <td>43207.000000</td>\n",
       "      <td>43207.000000</td>\n",
       "      <td>43207.000000</td>\n",
       "    </tr>\n",
       "    <tr>\n",
       "      <th>mean</th>\n",
       "      <td>2.020978e+12</td>\n",
       "      <td>3.351378</td>\n",
       "      <td>454.091791</td>\n",
       "      <td>63.872521</td>\n",
       "      <td>4.573588</td>\n",
       "      <td>14.368713</td>\n",
       "      <td>6.005231</td>\n",
       "      <td>1.929109</td>\n",
       "      <td>0.327794</td>\n",
       "      <td>30.180974</td>\n",
       "      <td>...</td>\n",
       "      <td>0.879788</td>\n",
       "      <td>2.141968</td>\n",
       "      <td>0.941931</td>\n",
       "      <td>3.678802</td>\n",
       "      <td>2.144166</td>\n",
       "      <td>0.176939</td>\n",
       "      <td>3.770755</td>\n",
       "      <td>5.611961</td>\n",
       "      <td>0.889948</td>\n",
       "      <td>1.855116</td>\n",
       "    </tr>\n",
       "    <tr>\n",
       "      <th>std</th>\n",
       "      <td>7.784176e+08</td>\n",
       "      <td>1.551440</td>\n",
       "      <td>263.070571</td>\n",
       "      <td>34.063333</td>\n",
       "      <td>2.121357</td>\n",
       "      <td>8.669161</td>\n",
       "      <td>4.896619</td>\n",
       "      <td>1.394103</td>\n",
       "      <td>0.469415</td>\n",
       "      <td>62.079283</td>\n",
       "      <td>...</td>\n",
       "      <td>0.391362</td>\n",
       "      <td>0.537515</td>\n",
       "      <td>0.233877</td>\n",
       "      <td>1.147506</td>\n",
       "      <td>0.423333</td>\n",
       "      <td>0.381621</td>\n",
       "      <td>1.868980</td>\n",
       "      <td>1.517844</td>\n",
       "      <td>0.312958</td>\n",
       "      <td>1.591556</td>\n",
       "    </tr>\n",
       "    <tr>\n",
       "      <th>min</th>\n",
       "      <td>2.020021e+12</td>\n",
       "      <td>0.000000</td>\n",
       "      <td>0.000000</td>\n",
       "      <td>1.000000</td>\n",
       "      <td>0.000000</td>\n",
       "      <td>0.000000</td>\n",
       "      <td>0.000000</td>\n",
       "      <td>0.000000</td>\n",
       "      <td>0.000000</td>\n",
       "      <td>-7178.000000</td>\n",
       "      <td>...</td>\n",
       "      <td>0.000000</td>\n",
       "      <td>0.000000</td>\n",
       "      <td>0.000000</td>\n",
       "      <td>0.000000</td>\n",
       "      <td>0.000000</td>\n",
       "      <td>0.000000</td>\n",
       "      <td>0.000000</td>\n",
       "      <td>0.000000</td>\n",
       "      <td>0.000000</td>\n",
       "      <td>0.000000</td>\n",
       "    </tr>\n",
       "    <tr>\n",
       "      <th>25%</th>\n",
       "      <td>2.020099e+12</td>\n",
       "      <td>4.000000</td>\n",
       "      <td>221.000000</td>\n",
       "      <td>40.000000</td>\n",
       "      <td>3.000000</td>\n",
       "      <td>7.000000</td>\n",
       "      <td>1.000000</td>\n",
       "      <td>1.000000</td>\n",
       "      <td>0.000000</td>\n",
       "      <td>23.000000</td>\n",
       "      <td>...</td>\n",
       "      <td>1.000000</td>\n",
       "      <td>2.000000</td>\n",
       "      <td>1.000000</td>\n",
       "      <td>4.000000</td>\n",
       "      <td>2.000000</td>\n",
       "      <td>0.000000</td>\n",
       "      <td>3.000000</td>\n",
       "      <td>6.000000</td>\n",
       "      <td>1.000000</td>\n",
       "      <td>0.000000</td>\n",
       "    </tr>\n",
       "    <tr>\n",
       "      <th>50%</th>\n",
       "      <td>2.021066e+12</td>\n",
       "      <td>4.000000</td>\n",
       "      <td>449.000000</td>\n",
       "      <td>63.000000</td>\n",
       "      <td>4.000000</td>\n",
       "      <td>14.000000</td>\n",
       "      <td>5.000000</td>\n",
       "      <td>1.000000</td>\n",
       "      <td>0.000000</td>\n",
       "      <td>29.000000</td>\n",
       "      <td>...</td>\n",
       "      <td>1.000000</td>\n",
       "      <td>2.000000</td>\n",
       "      <td>1.000000</td>\n",
       "      <td>4.000000</td>\n",
       "      <td>2.000000</td>\n",
       "      <td>0.000000</td>\n",
       "      <td>3.000000</td>\n",
       "      <td>6.000000</td>\n",
       "      <td>1.000000</td>\n",
       "      <td>2.000000</td>\n",
       "    </tr>\n",
       "    <tr>\n",
       "      <th>75%</th>\n",
       "      <td>2.022025e+12</td>\n",
       "      <td>4.000000</td>\n",
       "      <td>684.000000</td>\n",
       "      <td>94.000000</td>\n",
       "      <td>7.000000</td>\n",
       "      <td>22.000000</td>\n",
       "      <td>8.000000</td>\n",
       "      <td>4.000000</td>\n",
       "      <td>1.000000</td>\n",
       "      <td>37.000000</td>\n",
       "      <td>...</td>\n",
       "      <td>1.000000</td>\n",
       "      <td>2.000000</td>\n",
       "      <td>1.000000</td>\n",
       "      <td>4.000000</td>\n",
       "      <td>2.000000</td>\n",
       "      <td>0.000000</td>\n",
       "      <td>3.000000</td>\n",
       "      <td>6.000000</td>\n",
       "      <td>1.000000</td>\n",
       "      <td>2.000000</td>\n",
       "    </tr>\n",
       "    <tr>\n",
       "      <th>max</th>\n",
       "      <td>2.022575e+12</td>\n",
       "      <td>6.000000</td>\n",
       "      <td>911.000000</td>\n",
       "      <td>555.000000</td>\n",
       "      <td>8.000000</td>\n",
       "      <td>29.000000</td>\n",
       "      <td>18.000000</td>\n",
       "      <td>4.000000</td>\n",
       "      <td>1.000000</td>\n",
       "      <td>85.000000</td>\n",
       "      <td>...</td>\n",
       "      <td>2.000000</td>\n",
       "      <td>5.000000</td>\n",
       "      <td>1.000000</td>\n",
       "      <td>6.000000</td>\n",
       "      <td>3.000000</td>\n",
       "      <td>1.000000</td>\n",
       "      <td>9.000000</td>\n",
       "      <td>7.000000</td>\n",
       "      <td>1.000000</td>\n",
       "      <td>5.000000</td>\n",
       "    </tr>\n",
       "  </tbody>\n",
       "</table>\n",
       "<p>8 rows × 21 columns</p>\n",
       "</div>"
      ],
      "text/plain": [
       "       TRI Incident Number  ForceTypeSubject  Occurrence Date  Incident Pct  \\\n",
       "count         4.320700e+04      43207.000000     43207.000000  43207.000000   \n",
       "mean          2.020978e+12          3.351378       454.091791     63.872521   \n",
       "std           7.784176e+08          1.551440       263.070571     34.063333   \n",
       "min           2.020021e+12          0.000000         0.000000      1.000000   \n",
       "25%           2.020099e+12          4.000000       221.000000     40.000000   \n",
       "50%           2.021066e+12          4.000000       449.000000     63.000000   \n",
       "75%           2.022025e+12          4.000000       684.000000     94.000000   \n",
       "max           2.022575e+12          6.000000       911.000000    555.000000   \n",
       "\n",
       "       Patrol Borough  YearMonthShort  BasisForEncounter  \\\n",
       "count    43207.000000    43207.000000       43207.000000   \n",
       "mean         4.573588       14.368713           6.005231   \n",
       "std          2.121357        8.669161           4.896619   \n",
       "min          0.000000        0.000000           0.000000   \n",
       "25%          3.000000        7.000000           1.000000   \n",
       "50%          4.000000       14.000000           5.000000   \n",
       "75%          7.000000       22.000000           8.000000   \n",
       "max          8.000000       29.000000          18.000000   \n",
       "\n",
       "       Subject Injury Level  Subject Injured           Age  ...  \\\n",
       "count          43207.000000     43207.000000  41680.000000  ...   \n",
       "mean               1.929109         0.327794     30.180974  ...   \n",
       "std                1.394103         0.469415     62.079283  ...   \n",
       "min                0.000000         0.000000  -7178.000000  ...   \n",
       "25%                1.000000         0.000000     23.000000  ...   \n",
       "50%                1.000000         0.000000     29.000000  ...   \n",
       "75%                4.000000         1.000000     37.000000  ...   \n",
       "max                4.000000         1.000000     85.000000  ...   \n",
       "\n",
       "       Subject Gender  Force Against MOS  Subject Used Force  \\\n",
       "count    43207.000000       43207.000000        43207.000000   \n",
       "mean         0.879788           2.141968            0.941931   \n",
       "std          0.391362           0.537515            0.233877   \n",
       "min          0.000000           0.000000            0.000000   \n",
       "25%          1.000000           2.000000            1.000000   \n",
       "50%          1.000000           2.000000            1.000000   \n",
       "75%          1.000000           2.000000            1.000000   \n",
       "max          2.000000           5.000000            1.000000   \n",
       "\n",
       "       ForceTypeOfficer   InjuryLevel  Member Injured  Rank Grouped  \\\n",
       "count      43207.000000  43207.000000    43207.000000  43207.000000   \n",
       "mean           3.678802      2.144166        0.176939      3.770755   \n",
       "std            1.147506      0.423333        0.381621      1.868980   \n",
       "min            0.000000      0.000000        0.000000      0.000000   \n",
       "25%            4.000000      2.000000        0.000000      3.000000   \n",
       "50%            4.000000      2.000000        0.000000      3.000000   \n",
       "75%            4.000000      2.000000        0.000000      3.000000   \n",
       "max            6.000000      3.000000        1.000000      9.000000   \n",
       "\n",
       "         Assignment  Member Gender          Race  \n",
       "count  43207.000000   43207.000000  43207.000000  \n",
       "mean       5.611961       0.889948      1.855116  \n",
       "std        1.517844       0.312958      1.591556  \n",
       "min        0.000000       0.000000      0.000000  \n",
       "25%        6.000000       1.000000      0.000000  \n",
       "50%        6.000000       1.000000      2.000000  \n",
       "75%        6.000000       1.000000      2.000000  \n",
       "max        7.000000       1.000000      5.000000  \n",
       "\n",
       "[8 rows x 21 columns]"
      ]
     },
     "execution_count": 14,
     "metadata": {},
     "output_type": "execute_result"
    }
   ],
   "source": [
    "incidents_numeric.describe()"
   ]
  },
  {
   "cell_type": "code",
   "execution_count": 15,
   "id": "3984d0ba",
   "metadata": {},
   "outputs": [
    {
     "data": {
      "text/html": [
       "<div>\n",
       "<style scoped>\n",
       "    .dataframe tbody tr th:only-of-type {\n",
       "        vertical-align: middle;\n",
       "    }\n",
       "\n",
       "    .dataframe tbody tr th {\n",
       "        vertical-align: top;\n",
       "    }\n",
       "\n",
       "    .dataframe thead th {\n",
       "        text-align: right;\n",
       "    }\n",
       "</style>\n",
       "<table border=\"1\" class=\"dataframe\">\n",
       "  <thead>\n",
       "    <tr style=\"text-align: right;\">\n",
       "      <th></th>\n",
       "      <th>TRI Incident Number</th>\n",
       "      <th>Incident Pct</th>\n",
       "      <th>Age</th>\n",
       "    </tr>\n",
       "  </thead>\n",
       "  <tbody>\n",
       "    <tr>\n",
       "      <th>count</th>\n",
       "      <td>4.320700e+04</td>\n",
       "      <td>43207.000000</td>\n",
       "      <td>41680.000000</td>\n",
       "    </tr>\n",
       "    <tr>\n",
       "      <th>mean</th>\n",
       "      <td>2.020978e+12</td>\n",
       "      <td>63.872521</td>\n",
       "      <td>30.180974</td>\n",
       "    </tr>\n",
       "    <tr>\n",
       "      <th>std</th>\n",
       "      <td>7.784176e+08</td>\n",
       "      <td>34.063333</td>\n",
       "      <td>62.079283</td>\n",
       "    </tr>\n",
       "    <tr>\n",
       "      <th>min</th>\n",
       "      <td>2.020021e+12</td>\n",
       "      <td>1.000000</td>\n",
       "      <td>-7178.000000</td>\n",
       "    </tr>\n",
       "    <tr>\n",
       "      <th>25%</th>\n",
       "      <td>2.020099e+12</td>\n",
       "      <td>40.000000</td>\n",
       "      <td>23.000000</td>\n",
       "    </tr>\n",
       "    <tr>\n",
       "      <th>50%</th>\n",
       "      <td>2.021066e+12</td>\n",
       "      <td>63.000000</td>\n",
       "      <td>29.000000</td>\n",
       "    </tr>\n",
       "    <tr>\n",
       "      <th>75%</th>\n",
       "      <td>2.022025e+12</td>\n",
       "      <td>94.000000</td>\n",
       "      <td>37.000000</td>\n",
       "    </tr>\n",
       "    <tr>\n",
       "      <th>max</th>\n",
       "      <td>2.022575e+12</td>\n",
       "      <td>555.000000</td>\n",
       "      <td>85.000000</td>\n",
       "    </tr>\n",
       "  </tbody>\n",
       "</table>\n",
       "</div>"
      ],
      "text/plain": [
       "       TRI Incident Number  Incident Pct           Age\n",
       "count         4.320700e+04  43207.000000  41680.000000\n",
       "mean          2.020978e+12     63.872521     30.180974\n",
       "std           7.784176e+08     34.063333     62.079283\n",
       "min           2.020021e+12      1.000000  -7178.000000\n",
       "25%           2.020099e+12     40.000000     23.000000\n",
       "50%           2.021066e+12     63.000000     29.000000\n",
       "75%           2.022025e+12     94.000000     37.000000\n",
       "max           2.022575e+12    555.000000     85.000000"
      ]
     },
     "execution_count": 15,
     "metadata": {},
     "output_type": "execute_result"
    }
   ],
   "source": [
    "#checking to make sure method did not interfere with non-numeric data\n",
    "incidents_merge.describe()"
   ]
  },
  {
   "cell_type": "code",
   "execution_count": null,
   "id": "0ddc7d0e",
   "metadata": {},
   "outputs": [],
   "source": []
  },
  {
   "cell_type": "markdown",
   "id": "e51ed717",
   "metadata": {},
   "source": [
    "# Visualizations"
   ]
  },
  {
   "cell_type": "code",
   "execution_count": 25,
   "id": "75852a20",
   "metadata": {},
   "outputs": [
    {
     "data": {
      "image/png": "[encoded data removed]",
      "text/plain": [
       "<Figure size 1440x720 with 1 Axes>"
      ]
     },
     "metadata": {},
     "output_type": "display_data"
    }
   ],
   "source": [
    "#creates a count plot of Subject Race, broken down by gender\n",
    "sns.countplot(x = 'Subject Race', data = incidents_merge, hue = 'Subject Gender', palette = 'husl', hue_order = ['FEMALE', 'UNK', 'MALE']).set(title = \"Count of Victims' Race, Seperated by Gender\")\n",
    "plt.gcf().set_size_inches(20, 10)\n",
    "plt.show()"
   ]
  },
  {
   "cell_type": "code",
   "execution_count": 26,
   "id": "e34b9247",
   "metadata": {},
   "outputs": [
    {
     "data": {
      "image/png": "[encoded data removed]",
      "text/plain": [
       "<Figure size 1440x720 with 1 Axes>"
      ]
     },
     "metadata": {},
     "output_type": "display_data"
    }
   ],
   "source": [
    "#creates a count plot of Officer Race, broken down by gender\n",
    "sns.countplot(x = 'Race', data = incidents_merge, hue = 'Member Gender', palette = 'husl', hue_order = ['FEMALE', 'UNK', 'MALE']).set(title = \"Count of Officers' Race, Seperated by Gender\")\n",
    "plt.gcf().set_size_inches(20, 10)\n",
    "plt.show()"
   ]
  },
  {
   "cell_type": "code",
   "execution_count": 73,
   "id": "b923ee4d",
   "metadata": {},
   "outputs": [
    {
     "data": {
      "image/png": "[encoded data removed]",
      "text/plain": [
       "<Figure size 1440x720 with 1 Axes>"
      ]
     },
     "metadata": {},
     "output_type": "display_data"
    }
   ],
   "source": [
    "#creates a count plot of injury level, broken down by race\n",
    "sns.countplot(x = 'Subject Injury Level', data = incidents_merge, hue = 'Subject Race', palette = 'husl').set(title = \"Severity of Victim Injury, colored by Race\")\n",
    "plt.legend(loc = 'upper right')\n",
    "plt.gcf().set_size_inches(20, 10)\n",
    "plt.show()"
   ]
  },
  {
   "cell_type": "code",
   "execution_count": 77,
   "id": "0df498ea",
   "metadata": {},
   "outputs": [
    {
     "data": {
      "image/png": "[encoded data removed]",
      "text/plain": [
       "<Figure size 1440x720 with 1 Axes>"
      ]
     },
     "metadata": {},
     "output_type": "display_data"
    }
   ],
   "source": [
    "#creates a count plot of injury level, broken down by gender\n",
    "sns.countplot(x = 'Subject Injury Level', data = incidents_merge, hue = 'Subject Gender', palette = 'husl', hue_order = ['FEMALE', 'UNK', 'MALE']).set(title = \"Severity of Victim Injury, colored by Gender\")\n",
    "plt.legend(loc = 'upper right')\n",
    "plt.gcf().set_size_inches(20, 10)\n",
    "plt.show()"
   ]
  },
  {
   "cell_type": "code",
   "execution_count": 27,
   "id": "2a15e580",
   "metadata": {},
   "outputs": [
    {
     "data": {
      "image/png": "[encoded data removed]",
      "text/plain": [
       "<Figure size 1440x720 with 1 Axes>"
      ]
     },
     "metadata": {},
     "output_type": "display_data"
    }
   ],
   "source": [
    "#creates a count plot of incidents per borough\n",
    "sns.countplot(x = 'Patrol Borough', data = incidents_merge, palette = 'husl').set(title = \"Count of Incidents Per Borough\")\n",
    "plt.gcf().set_size_inches(20, 10)\n",
    "plt.show()"
   ]
  },
  {
   "cell_type": "code",
   "execution_count": 29,
   "id": "395656c4",
   "metadata": {},
   "outputs": [
    {
     "data": {
      "image/png": "[encoded data removed]",
      "text/plain": [
       "<Figure size 1440x720 with 1 Axes>"
      ]
     },
     "metadata": {},
     "output_type": "display_data"
    }
   ],
   "source": [
    "#creates a count plot of incidents per borough, colored by subjects' race\n",
    "sns.countplot(x = 'Patrol Borough', data = incidents_merge, hue = 'Subject Race', palette = 'husl').set(title = \"Count of Incidents Per Borough, colored by Victims' Race\")\n",
    "plt.gcf().set_size_inches(20, 10)\n",
    "plt.show()"
   ]
  },
  {
   "cell_type": "code",
   "execution_count": 32,
   "id": "a0f8758a",
   "metadata": {},
   "outputs": [
    {
     "name": "stdout",
     "output_type": "stream",
     "text": [
      "<class 'pandas.core.frame.DataFrame'>\n",
      "Int64Index: 43207 entries, 0 to 43206\n",
      "Data columns (total 19 columns):\n",
      " #   Column                Non-Null Count  Dtype  \n",
      "---  ------                --------------  -----  \n",
      " 0   ForceTypeSubject      43207 non-null  int64  \n",
      " 1   Incident Pct          43207 non-null  int64  \n",
      " 2   Patrol Borough        43207 non-null  int64  \n",
      " 3   YearMonthShort        43207 non-null  int64  \n",
      " 4   BasisForEncounter     43207 non-null  int64  \n",
      " 5   Subject Injury Level  43207 non-null  int64  \n",
      " 6   Subject Injured       43207 non-null  int64  \n",
      " 7   Age                   41680 non-null  float64\n",
      " 8   Subject Race          43207 non-null  int64  \n",
      " 9   Subject Gender        43207 non-null  int64  \n",
      " 10  Force Against MOS     43207 non-null  int64  \n",
      " 11  Subject Used Force    43207 non-null  int64  \n",
      " 12  ForceTypeOfficer      43207 non-null  int64  \n",
      " 13  InjuryLevel           43207 non-null  int64  \n",
      " 14  Member Injured        43207 non-null  int64  \n",
      " 15  Rank Grouped          43207 non-null  int64  \n",
      " 16  Assignment            43207 non-null  int64  \n",
      " 17  Member Gender         43207 non-null  int64  \n",
      " 18  Race                  43207 non-null  int64  \n",
      "dtypes: float64(1), int64(18)\n",
      "memory usage: 7.6 MB\n"
     ]
    }
   ],
   "source": [
    "#drops unhelpful fields\n",
    "incidents_mod = incidents_numeric.drop(['TRI Incident Number', 'Occurrence Date'], axis = 1)\n",
    "incidents_mod.info()"
   ]
  },
  {
   "cell_type": "code",
   "execution_count": 33,
   "id": "c4649e23",
   "metadata": {},
   "outputs": [
    {
     "data": {
      "text/html": [
       "<div>\n",
       "<style scoped>\n",
       "    .dataframe tbody tr th:only-of-type {\n",
       "        vertical-align: middle;\n",
       "    }\n",
       "\n",
       "    .dataframe tbody tr th {\n",
       "        vertical-align: top;\n",
       "    }\n",
       "\n",
       "    .dataframe thead th {\n",
       "        text-align: right;\n",
       "    }\n",
       "</style>\n",
       "<table border=\"1\" class=\"dataframe\">\n",
       "  <thead>\n",
       "    <tr style=\"text-align: right;\">\n",
       "      <th></th>\n",
       "      <th>ForceTypeSubject</th>\n",
       "      <th>Incident Pct</th>\n",
       "      <th>Patrol Borough</th>\n",
       "      <th>YearMonthShort</th>\n",
       "      <th>BasisForEncounter</th>\n",
       "      <th>Subject Injury Level</th>\n",
       "      <th>Subject Injured</th>\n",
       "      <th>Age</th>\n",
       "      <th>Subject Race</th>\n",
       "      <th>Subject Gender</th>\n",
       "      <th>Force Against MOS</th>\n",
       "      <th>Subject Used Force</th>\n",
       "      <th>ForceTypeOfficer</th>\n",
       "      <th>InjuryLevel</th>\n",
       "      <th>Member Injured</th>\n",
       "      <th>Rank Grouped</th>\n",
       "      <th>Assignment</th>\n",
       "      <th>Member Gender</th>\n",
       "      <th>Race</th>\n",
       "    </tr>\n",
       "  </thead>\n",
       "  <tbody>\n",
       "    <tr>\n",
       "      <th>ForceTypeSubject</th>\n",
       "      <td>1.000000</td>\n",
       "      <td>-0.000549</td>\n",
       "      <td>-0.006162</td>\n",
       "      <td>-0.018688</td>\n",
       "      <td>0.076534</td>\n",
       "      <td>-0.286207</td>\n",
       "      <td>-0.288079</td>\n",
       "      <td>-0.014482</td>\n",
       "      <td>-0.017699</td>\n",
       "      <td>-0.086223</td>\n",
       "      <td>-0.068702</td>\n",
       "      <td>0.028807</td>\n",
       "      <td>0.669007</td>\n",
       "      <td>-0.011796</td>\n",
       "      <td>-0.013811</td>\n",
       "      <td>0.000730</td>\n",
       "      <td>-0.041170</td>\n",
       "      <td>0.004186</td>\n",
       "      <td>0.019531</td>\n",
       "    </tr>\n",
       "    <tr>\n",
       "      <th>Incident Pct</th>\n",
       "      <td>-0.000549</td>\n",
       "      <td>1.000000</td>\n",
       "      <td>0.473332</td>\n",
       "      <td>-0.015957</td>\n",
       "      <td>-0.046059</td>\n",
       "      <td>0.006221</td>\n",
       "      <td>0.005471</td>\n",
       "      <td>-0.006696</td>\n",
       "      <td>0.042279</td>\n",
       "      <td>-0.026978</td>\n",
       "      <td>-0.002191</td>\n",
       "      <td>-0.006841</td>\n",
       "      <td>0.016388</td>\n",
       "      <td>-0.016235</td>\n",
       "      <td>-0.030319</td>\n",
       "      <td>-0.004953</td>\n",
       "      <td>0.035159</td>\n",
       "      <td>0.005204</td>\n",
       "      <td>0.076313</td>\n",
       "    </tr>\n",
       "    <tr>\n",
       "      <th>Patrol Borough</th>\n",
       "      <td>-0.006162</td>\n",
       "      <td>0.473332</td>\n",
       "      <td>1.000000</td>\n",
       "      <td>-0.004600</td>\n",
       "      <td>-0.014709</td>\n",
       "      <td>0.009218</td>\n",
       "      <td>0.006700</td>\n",
       "      <td>-0.013322</td>\n",
       "      <td>0.171629</td>\n",
       "      <td>-0.008553</td>\n",
       "      <td>-0.023614</td>\n",
       "      <td>0.016287</td>\n",
       "      <td>0.002009</td>\n",
       "      <td>-0.005976</td>\n",
       "      <td>-0.011295</td>\n",
       "      <td>-0.006098</td>\n",
       "      <td>0.015158</td>\n",
       "      <td>0.000433</td>\n",
       "      <td>0.048718</td>\n",
       "    </tr>\n",
       "    <tr>\n",
       "      <th>YearMonthShort</th>\n",
       "      <td>-0.018688</td>\n",
       "      <td>-0.015957</td>\n",
       "      <td>-0.004600</td>\n",
       "      <td>1.000000</td>\n",
       "      <td>-0.019758</td>\n",
       "      <td>0.036297</td>\n",
       "      <td>0.033323</td>\n",
       "      <td>-0.012386</td>\n",
       "      <td>-0.008499</td>\n",
       "      <td>0.009715</td>\n",
       "      <td>0.006767</td>\n",
       "      <td>-0.001140</td>\n",
       "      <td>-0.015093</td>\n",
       "      <td>0.010452</td>\n",
       "      <td>0.019891</td>\n",
       "      <td>0.005458</td>\n",
       "      <td>0.018806</td>\n",
       "      <td>-0.002660</td>\n",
       "      <td>0.005933</td>\n",
       "    </tr>\n",
       "    <tr>\n",
       "      <th>BasisForEncounter</th>\n",
       "      <td>0.076534</td>\n",
       "      <td>-0.046059</td>\n",
       "      <td>-0.014709</td>\n",
       "      <td>-0.019758</td>\n",
       "      <td>1.000000</td>\n",
       "      <td>0.010104</td>\n",
       "      <td>0.010230</td>\n",
       "      <td>-0.006169</td>\n",
       "      <td>0.013340</td>\n",
       "      <td>0.036863</td>\n",
       "      <td>0.000817</td>\n",
       "      <td>-0.018813</td>\n",
       "      <td>0.057275</td>\n",
       "      <td>0.000362</td>\n",
       "      <td>0.009723</td>\n",
       "      <td>0.070729</td>\n",
       "      <td>-0.089366</td>\n",
       "      <td>0.026927</td>\n",
       "      <td>0.002645</td>\n",
       "    </tr>\n",
       "    <tr>\n",
       "      <th>Subject Injury Level</th>\n",
       "      <td>-0.286207</td>\n",
       "      <td>0.006221</td>\n",
       "      <td>0.009218</td>\n",
       "      <td>0.036297</td>\n",
       "      <td>0.010104</td>\n",
       "      <td>1.000000</td>\n",
       "      <td>0.954393</td>\n",
       "      <td>0.014151</td>\n",
       "      <td>-0.040560</td>\n",
       "      <td>0.071131</td>\n",
       "      <td>0.007686</td>\n",
       "      <td>-0.000132</td>\n",
       "      <td>-0.184796</td>\n",
       "      <td>0.020573</td>\n",
       "      <td>0.031278</td>\n",
       "      <td>0.007993</td>\n",
       "      <td>0.018282</td>\n",
       "      <td>0.034742</td>\n",
       "      <td>-0.011472</td>\n",
       "    </tr>\n",
       "    <tr>\n",
       "      <th>Subject Injured</th>\n",
       "      <td>-0.288079</td>\n",
       "      <td>0.005471</td>\n",
       "      <td>0.006700</td>\n",
       "      <td>0.033323</td>\n",
       "      <td>0.010230</td>\n",
       "      <td>0.954393</td>\n",
       "      <td>1.000000</td>\n",
       "      <td>0.015724</td>\n",
       "      <td>-0.043948</td>\n",
       "      <td>0.079064</td>\n",
       "      <td>0.009110</td>\n",
       "      <td>0.001568</td>\n",
       "      <td>-0.189526</td>\n",
       "      <td>0.021101</td>\n",
       "      <td>0.035661</td>\n",
       "      <td>0.011471</td>\n",
       "      <td>0.016885</td>\n",
       "      <td>0.038231</td>\n",
       "      <td>-0.010719</td>\n",
       "    </tr>\n",
       "    <tr>\n",
       "      <th>Age</th>\n",
       "      <td>-0.014482</td>\n",
       "      <td>-0.006696</td>\n",
       "      <td>-0.013322</td>\n",
       "      <td>-0.012386</td>\n",
       "      <td>-0.006169</td>\n",
       "      <td>0.014151</td>\n",
       "      <td>0.015724</td>\n",
       "      <td>1.000000</td>\n",
       "      <td>-0.005867</td>\n",
       "      <td>0.009798</td>\n",
       "      <td>0.001752</td>\n",
       "      <td>0.000461</td>\n",
       "      <td>-0.010001</td>\n",
       "      <td>-0.006442</td>\n",
       "      <td>-0.008693</td>\n",
       "      <td>-0.006047</td>\n",
       "      <td>0.011366</td>\n",
       "      <td>0.012913</td>\n",
       "      <td>0.010803</td>\n",
       "    </tr>\n",
       "    <tr>\n",
       "      <th>Subject Race</th>\n",
       "      <td>-0.017699</td>\n",
       "      <td>0.042279</td>\n",
       "      <td>0.171629</td>\n",
       "      <td>-0.008499</td>\n",
       "      <td>0.013340</td>\n",
       "      <td>-0.040560</td>\n",
       "      <td>-0.043948</td>\n",
       "      <td>-0.005867</td>\n",
       "      <td>1.000000</td>\n",
       "      <td>-0.002965</td>\n",
       "      <td>-0.019462</td>\n",
       "      <td>0.014115</td>\n",
       "      <td>-0.006486</td>\n",
       "      <td>-0.003245</td>\n",
       "      <td>-0.005061</td>\n",
       "      <td>0.004068</td>\n",
       "      <td>-0.006197</td>\n",
       "      <td>0.010689</td>\n",
       "      <td>0.028729</td>\n",
       "    </tr>\n",
       "    <tr>\n",
       "      <th>Subject Gender</th>\n",
       "      <td>-0.086223</td>\n",
       "      <td>-0.026978</td>\n",
       "      <td>-0.008553</td>\n",
       "      <td>0.009715</td>\n",
       "      <td>0.036863</td>\n",
       "      <td>0.071131</td>\n",
       "      <td>0.079064</td>\n",
       "      <td>0.009798</td>\n",
       "      <td>-0.002965</td>\n",
       "      <td>1.000000</td>\n",
       "      <td>0.035359</td>\n",
       "      <td>-0.044153</td>\n",
       "      <td>-0.060263</td>\n",
       "      <td>-0.013020</td>\n",
       "      <td>-0.009915</td>\n",
       "      <td>0.015989</td>\n",
       "      <td>-0.027916</td>\n",
       "      <td>0.094559</td>\n",
       "      <td>-0.002992</td>\n",
       "    </tr>\n",
       "    <tr>\n",
       "      <th>Force Against MOS</th>\n",
       "      <td>-0.068702</td>\n",
       "      <td>-0.002191</td>\n",
       "      <td>-0.023614</td>\n",
       "      <td>0.006767</td>\n",
       "      <td>0.000817</td>\n",
       "      <td>0.007686</td>\n",
       "      <td>0.009110</td>\n",
       "      <td>0.001752</td>\n",
       "      <td>-0.019462</td>\n",
       "      <td>0.035359</td>\n",
       "      <td>1.000000</td>\n",
       "      <td>-0.858285</td>\n",
       "      <td>-0.142996</td>\n",
       "      <td>-0.049364</td>\n",
       "      <td>-0.076313</td>\n",
       "      <td>0.032282</td>\n",
       "      <td>-0.023171</td>\n",
       "      <td>0.036193</td>\n",
       "      <td>-0.007150</td>\n",
       "    </tr>\n",
       "    <tr>\n",
       "      <th>Subject Used Force</th>\n",
       "      <td>0.028807</td>\n",
       "      <td>-0.006841</td>\n",
       "      <td>0.016287</td>\n",
       "      <td>-0.001140</td>\n",
       "      <td>-0.018813</td>\n",
       "      <td>-0.000132</td>\n",
       "      <td>0.001568</td>\n",
       "      <td>0.000461</td>\n",
       "      <td>0.014115</td>\n",
       "      <td>-0.044153</td>\n",
       "      <td>-0.858285</td>\n",
       "      <td>1.000000</td>\n",
       "      <td>0.092633</td>\n",
       "      <td>0.059076</td>\n",
       "      <td>0.084782</td>\n",
       "      <td>-0.027702</td>\n",
       "      <td>0.034843</td>\n",
       "      <td>-0.036403</td>\n",
       "      <td>0.003761</td>\n",
       "    </tr>\n",
       "    <tr>\n",
       "      <th>ForceTypeOfficer</th>\n",
       "      <td>0.669007</td>\n",
       "      <td>0.016388</td>\n",
       "      <td>0.002009</td>\n",
       "      <td>-0.015093</td>\n",
       "      <td>0.057275</td>\n",
       "      <td>-0.184796</td>\n",
       "      <td>-0.189526</td>\n",
       "      <td>-0.010001</td>\n",
       "      <td>-0.006486</td>\n",
       "      <td>-0.060263</td>\n",
       "      <td>-0.142996</td>\n",
       "      <td>0.092633</td>\n",
       "      <td>1.000000</td>\n",
       "      <td>0.011375</td>\n",
       "      <td>0.016255</td>\n",
       "      <td>-0.027924</td>\n",
       "      <td>-0.028812</td>\n",
       "      <td>0.000948</td>\n",
       "      <td>0.012563</td>\n",
       "    </tr>\n",
       "    <tr>\n",
       "      <th>InjuryLevel</th>\n",
       "      <td>-0.011796</td>\n",
       "      <td>-0.016235</td>\n",
       "      <td>-0.005976</td>\n",
       "      <td>0.010452</td>\n",
       "      <td>0.000362</td>\n",
       "      <td>0.020573</td>\n",
       "      <td>0.021101</td>\n",
       "      <td>-0.006442</td>\n",
       "      <td>-0.003245</td>\n",
       "      <td>-0.013020</td>\n",
       "      <td>-0.049364</td>\n",
       "      <td>0.059076</td>\n",
       "      <td>0.011375</td>\n",
       "      <td>1.000000</td>\n",
       "      <td>0.734499</td>\n",
       "      <td>-0.011761</td>\n",
       "      <td>-0.022329</td>\n",
       "      <td>-0.033278</td>\n",
       "      <td>-0.009362</td>\n",
       "    </tr>\n",
       "    <tr>\n",
       "      <th>Member Injured</th>\n",
       "      <td>-0.013811</td>\n",
       "      <td>-0.030319</td>\n",
       "      <td>-0.011295</td>\n",
       "      <td>0.019891</td>\n",
       "      <td>0.009723</td>\n",
       "      <td>0.031278</td>\n",
       "      <td>0.035661</td>\n",
       "      <td>-0.008693</td>\n",
       "      <td>-0.005061</td>\n",
       "      <td>-0.009915</td>\n",
       "      <td>-0.076313</td>\n",
       "      <td>0.084782</td>\n",
       "      <td>0.016255</td>\n",
       "      <td>0.734499</td>\n",
       "      <td>1.000000</td>\n",
       "      <td>-0.001896</td>\n",
       "      <td>-0.039096</td>\n",
       "      <td>-0.049157</td>\n",
       "      <td>-0.004853</td>\n",
       "    </tr>\n",
       "    <tr>\n",
       "      <th>Rank Grouped</th>\n",
       "      <td>0.000730</td>\n",
       "      <td>-0.004953</td>\n",
       "      <td>-0.006098</td>\n",
       "      <td>0.005458</td>\n",
       "      <td>0.070729</td>\n",
       "      <td>0.007993</td>\n",
       "      <td>0.011471</td>\n",
       "      <td>-0.006047</td>\n",
       "      <td>0.004068</td>\n",
       "      <td>0.015989</td>\n",
       "      <td>0.032282</td>\n",
       "      <td>-0.027702</td>\n",
       "      <td>-0.027924</td>\n",
       "      <td>-0.011761</td>\n",
       "      <td>-0.001896</td>\n",
       "      <td>1.000000</td>\n",
       "      <td>-0.042218</td>\n",
       "      <td>0.064299</td>\n",
       "      <td>0.029030</td>\n",
       "    </tr>\n",
       "    <tr>\n",
       "      <th>Assignment</th>\n",
       "      <td>-0.041170</td>\n",
       "      <td>0.035159</td>\n",
       "      <td>0.015158</td>\n",
       "      <td>0.018806</td>\n",
       "      <td>-0.089366</td>\n",
       "      <td>0.018282</td>\n",
       "      <td>0.016885</td>\n",
       "      <td>0.011366</td>\n",
       "      <td>-0.006197</td>\n",
       "      <td>-0.027916</td>\n",
       "      <td>-0.023171</td>\n",
       "      <td>0.034843</td>\n",
       "      <td>-0.028812</td>\n",
       "      <td>-0.022329</td>\n",
       "      <td>-0.039096</td>\n",
       "      <td>-0.042218</td>\n",
       "      <td>1.000000</td>\n",
       "      <td>0.008472</td>\n",
       "      <td>-0.027019</td>\n",
       "    </tr>\n",
       "    <tr>\n",
       "      <th>Member Gender</th>\n",
       "      <td>0.004186</td>\n",
       "      <td>0.005204</td>\n",
       "      <td>0.000433</td>\n",
       "      <td>-0.002660</td>\n",
       "      <td>0.026927</td>\n",
       "      <td>0.034742</td>\n",
       "      <td>0.038231</td>\n",
       "      <td>0.012913</td>\n",
       "      <td>0.010689</td>\n",
       "      <td>0.094559</td>\n",
       "      <td>0.036193</td>\n",
       "      <td>-0.036403</td>\n",
       "      <td>0.000948</td>\n",
       "      <td>-0.033278</td>\n",
       "      <td>-0.049157</td>\n",
       "      <td>0.064299</td>\n",
       "      <td>0.008472</td>\n",
       "      <td>1.000000</td>\n",
       "      <td>0.040755</td>\n",
       "    </tr>\n",
       "    <tr>\n",
       "      <th>Race</th>\n",
       "      <td>0.019531</td>\n",
       "      <td>0.076313</td>\n",
       "      <td>0.048718</td>\n",
       "      <td>0.005933</td>\n",
       "      <td>0.002645</td>\n",
       "      <td>-0.011472</td>\n",
       "      <td>-0.010719</td>\n",
       "      <td>0.010803</td>\n",
       "      <td>0.028729</td>\n",
       "      <td>-0.002992</td>\n",
       "      <td>-0.007150</td>\n",
       "      <td>0.003761</td>\n",
       "      <td>0.012563</td>\n",
       "      <td>-0.009362</td>\n",
       "      <td>-0.004853</td>\n",
       "      <td>0.029030</td>\n",
       "      <td>-0.027019</td>\n",
       "      <td>0.040755</td>\n",
       "      <td>1.000000</td>\n",
       "    </tr>\n",
       "  </tbody>\n",
       "</table>\n",
       "</div>"
      ],
      "text/plain": [
       "                      ForceTypeSubject  Incident Pct  Patrol Borough  \\\n",
       "ForceTypeSubject              1.000000     -0.000549       -0.006162   \n",
       "Incident Pct                 -0.000549      1.000000        0.473332   \n",
       "Patrol Borough               -0.006162      0.473332        1.000000   \n",
       "YearMonthShort               -0.018688     -0.015957       -0.004600   \n",
       "BasisForEncounter             0.076534     -0.046059       -0.014709   \n",
       "Subject Injury Level         -0.286207      0.006221        0.009218   \n",
       "Subject Injured              -0.288079      0.005471        0.006700   \n",
       "Age                          -0.014482     -0.006696       -0.013322   \n",
       "Subject Race                 -0.017699      0.042279        0.171629   \n",
       "Subject Gender               -0.086223     -0.026978       -0.008553   \n",
       "Force Against MOS            -0.068702     -0.002191       -0.023614   \n",
       "Subject Used Force            0.028807     -0.006841        0.016287   \n",
       "ForceTypeOfficer              0.669007      0.016388        0.002009   \n",
       "InjuryLevel                  -0.011796     -0.016235       -0.005976   \n",
       "Member Injured               -0.013811     -0.030319       -0.011295   \n",
       "Rank Grouped                  0.000730     -0.004953       -0.006098   \n",
       "Assignment                   -0.041170      0.035159        0.015158   \n",
       "Member Gender                 0.004186      0.005204        0.000433   \n",
       "Race                          0.019531      0.076313        0.048718   \n",
       "\n",
       "                      YearMonthShort  BasisForEncounter  Subject Injury Level  \\\n",
       "ForceTypeSubject           -0.018688           0.076534             -0.286207   \n",
       "Incident Pct               -0.015957          -0.046059              0.006221   \n",
       "Patrol Borough             -0.004600          -0.014709              0.009218   \n",
       "YearMonthShort              1.000000          -0.019758              0.036297   \n",
       "BasisForEncounter          -0.019758           1.000000              0.010104   \n",
       "Subject Injury Level        0.036297           0.010104              1.000000   \n",
       "Subject Injured             0.033323           0.010230              0.954393   \n",
       "Age                        -0.012386          -0.006169              0.014151   \n",
       "Subject Race               -0.008499           0.013340             -0.040560   \n",
       "Subject Gender              0.009715           0.036863              0.071131   \n",
       "Force Against MOS           0.006767           0.000817              0.007686   \n",
       "Subject Used Force         -0.001140          -0.018813             -0.000132   \n",
       "ForceTypeOfficer           -0.015093           0.057275             -0.184796   \n",
       "InjuryLevel                 0.010452           0.000362              0.020573   \n",
       "Member Injured              0.019891           0.009723              0.031278   \n",
       "Rank Grouped                0.005458           0.070729              0.007993   \n",
       "Assignment                  0.018806          -0.089366              0.018282   \n",
       "Member Gender              -0.002660           0.026927              0.034742   \n",
       "Race                        0.005933           0.002645             -0.011472   \n",
       "\n",
       "                      Subject Injured       Age  Subject Race  Subject Gender  \\\n",
       "ForceTypeSubject            -0.288079 -0.014482     -0.017699       -0.086223   \n",
       "Incident Pct                 0.005471 -0.006696      0.042279       -0.026978   \n",
       "Patrol Borough               0.006700 -0.013322      0.171629       -0.008553   \n",
       "YearMonthShort               0.033323 -0.012386     -0.008499        0.009715   \n",
       "BasisForEncounter            0.010230 -0.006169      0.013340        0.036863   \n",
       "Subject Injury Level         0.954393  0.014151     -0.040560        0.071131   \n",
       "Subject Injured              1.000000  0.015724     -0.043948        0.079064   \n",
       "Age                          0.015724  1.000000     -0.005867        0.009798   \n",
       "Subject Race                -0.043948 -0.005867      1.000000       -0.002965   \n",
       "Subject Gender               0.079064  0.009798     -0.002965        1.000000   \n",
       "Force Against MOS            0.009110  0.001752     -0.019462        0.035359   \n",
       "Subject Used Force           0.001568  0.000461      0.014115       -0.044153   \n",
       "ForceTypeOfficer            -0.189526 -0.010001     -0.006486       -0.060263   \n",
       "InjuryLevel                  0.021101 -0.006442     -0.003245       -0.013020   \n",
       "Member Injured               0.035661 -0.008693     -0.005061       -0.009915   \n",
       "Rank Grouped                 0.011471 -0.006047      0.004068        0.015989   \n",
       "Assignment                   0.016885  0.011366     -0.006197       -0.027916   \n",
       "Member Gender                0.038231  0.012913      0.010689        0.094559   \n",
       "Race                        -0.010719  0.010803      0.028729       -0.002992   \n",
       "\n",
       "                      Force Against MOS  Subject Used Force  ForceTypeOfficer  \\\n",
       "ForceTypeSubject              -0.068702            0.028807          0.669007   \n",
       "Incident Pct                  -0.002191           -0.006841          0.016388   \n",
       "Patrol Borough                -0.023614            0.016287          0.002009   \n",
       "YearMonthShort                 0.006767           -0.001140         -0.015093   \n",
       "BasisForEncounter              0.000817           -0.018813          0.057275   \n",
       "Subject Injury Level           0.007686           -0.000132         -0.184796   \n",
       "Subject Injured                0.009110            0.001568         -0.189526   \n",
       "Age                            0.001752            0.000461         -0.010001   \n",
       "Subject Race                  -0.019462            0.014115         -0.006486   \n",
       "Subject Gender                 0.035359           -0.044153         -0.060263   \n",
       "Force Against MOS              1.000000           -0.858285         -0.142996   \n",
       "Subject Used Force            -0.858285            1.000000          0.092633   \n",
       "ForceTypeOfficer              -0.142996            0.092633          1.000000   \n",
       "InjuryLevel                   -0.049364            0.059076          0.011375   \n",
       "Member Injured                -0.076313            0.084782          0.016255   \n",
       "Rank Grouped                   0.032282           -0.027702         -0.027924   \n",
       "Assignment                    -0.023171            0.034843         -0.028812   \n",
       "Member Gender                  0.036193           -0.036403          0.000948   \n",
       "Race                          -0.007150            0.003761          0.012563   \n",
       "\n",
       "                      InjuryLevel  Member Injured  Rank Grouped  Assignment  \\\n",
       "ForceTypeSubject        -0.011796       -0.013811      0.000730   -0.041170   \n",
       "Incident Pct            -0.016235       -0.030319     -0.004953    0.035159   \n",
       "Patrol Borough          -0.005976       -0.011295     -0.006098    0.015158   \n",
       "YearMonthShort           0.010452        0.019891      0.005458    0.018806   \n",
       "BasisForEncounter        0.000362        0.009723      0.070729   -0.089366   \n",
       "Subject Injury Level     0.020573        0.031278      0.007993    0.018282   \n",
       "Subject Injured          0.021101        0.035661      0.011471    0.016885   \n",
       "Age                     -0.006442       -0.008693     -0.006047    0.011366   \n",
       "Subject Race            -0.003245       -0.005061      0.004068   -0.006197   \n",
       "Subject Gender          -0.013020       -0.009915      0.015989   -0.027916   \n",
       "Force Against MOS       -0.049364       -0.076313      0.032282   -0.023171   \n",
       "Subject Used Force       0.059076        0.084782     -0.027702    0.034843   \n",
       "ForceTypeOfficer         0.011375        0.016255     -0.027924   -0.028812   \n",
       "InjuryLevel              1.000000        0.734499     -0.011761   -0.022329   \n",
       "Member Injured           0.734499        1.000000     -0.001896   -0.039096   \n",
       "Rank Grouped            -0.011761       -0.001896      1.000000   -0.042218   \n",
       "Assignment              -0.022329       -0.039096     -0.042218    1.000000   \n",
       "Member Gender           -0.033278       -0.049157      0.064299    0.008472   \n",
       "Race                    -0.009362       -0.004853      0.029030   -0.027019   \n",
       "\n",
       "                      Member Gender      Race  \n",
       "ForceTypeSubject           0.004186  0.019531  \n",
       "Incident Pct               0.005204  0.076313  \n",
       "Patrol Borough             0.000433  0.048718  \n",
       "YearMonthShort            -0.002660  0.005933  \n",
       "BasisForEncounter          0.026927  0.002645  \n",
       "Subject Injury Level       0.034742 -0.011472  \n",
       "Subject Injured            0.038231 -0.010719  \n",
       "Age                        0.012913  0.010803  \n",
       "Subject Race               0.010689  0.028729  \n",
       "Subject Gender             0.094559 -0.002992  \n",
       "Force Against MOS          0.036193 -0.007150  \n",
       "Subject Used Force        -0.036403  0.003761  \n",
       "ForceTypeOfficer           0.000948  0.012563  \n",
       "InjuryLevel               -0.033278 -0.009362  \n",
       "Member Injured            -0.049157 -0.004853  \n",
       "Rank Grouped               0.064299  0.029030  \n",
       "Assignment                 0.008472 -0.027019  \n",
       "Member Gender              1.000000  0.040755  \n",
       "Race                       0.040755  1.000000  "
      ]
     },
     "execution_count": 33,
     "metadata": {},
     "output_type": "execute_result"
    }
   ],
   "source": [
    "#creates a correlation matrix for the dataset\n",
    "incidents_mod.corr()"
   ]
  },
  {
   "cell_type": "code",
   "execution_count": 63,
   "id": "5400fb4b",
   "metadata": {},
   "outputs": [
    {
     "data": {
      "image/png": "[encoded data removed]",
      "text/plain": [
       "<Figure size 1440x720 with 2 Axes>"
      ]
     },
     "metadata": {},
     "output_type": "display_data"
    }
   ],
   "source": [
    "#creates heatmap for dataset\n",
    "sns.heatmap(incidents_mod.corr(), vmin = -1, vmax = 1, cmap = 'icefire')\n",
    "plt.title('Correlation Plot')\n",
    "plt.gcf().set_size_inches(20, 10)\n",
    "plt.show()"
   ]
  },
  {
   "cell_type": "markdown",
   "id": "2616a88f",
   "metadata": {},
   "source": [
    "# Preprocessing and Model Creation"
   ]
  },
  {
   "cell_type": "code",
   "execution_count": 78,
   "id": "88300890",
   "metadata": {},
   "outputs": [],
   "source": [
    "incidents_mod = incidents_mod.fillna(0)"
   ]
  },
  {
   "cell_type": "code",
   "execution_count": 103,
   "id": "402b9456",
   "metadata": {},
   "outputs": [],
   "source": [
    "#creates training and test sets of .70 to .30 ratio\n",
    "X = incidents_mod.drop(['Subject Injured', 'Subject Injury Level'], axis = 1)\n",
    "y = incidents_mod['Subject Injured']\n",
    "X_train, X_test, y_train, y_test = train_test_split(X, y, test_size = 0.30, random_state = 666)"
   ]
  },
  {
   "cell_type": "code",
   "execution_count": 104,
   "id": "5c01b532",
   "metadata": {},
   "outputs": [],
   "source": [
    "#perform standardization on X sets\n",
    "sc = StandardScaler()\n",
    "X_train = sc.fit_transform(X_train)\n",
    "X_test = sc.transform(X_test)"
   ]
  },
  {
   "cell_type": "code",
   "execution_count": 105,
   "id": "440f6210",
   "metadata": {},
   "outputs": [
    {
     "data": {
      "text/plain": [
       "KNeighborsClassifier()"
      ]
     },
     "execution_count": 105,
     "metadata": {},
     "output_type": "execute_result"
    }
   ],
   "source": [
    "#creates and trains K-Nearest Neighbors model\n",
    "knn = KNeighborsClassifier(n_neighbors = 5)\n",
    "knn.fit(X_train, y_train.ravel())"
   ]
  },
  {
   "cell_type": "code",
   "execution_count": 106,
   "id": "a2a7b9ea",
   "metadata": {},
   "outputs": [
    {
     "data": {
      "text/plain": [
       "GaussianNB()"
      ]
     },
     "execution_count": 106,
     "metadata": {},
     "output_type": "execute_result"
    }
   ],
   "source": [
    "#creates and trains Gaussian Naive Bayes model\n",
    "gnb = GaussianNB()\n",
    "gnb.fit(X_train, y_train.ravel())"
   ]
  },
  {
   "cell_type": "code",
   "execution_count": 107,
   "id": "78e6ffb9",
   "metadata": {},
   "outputs": [
    {
     "data": {
      "text/plain": [
       "LogisticRegression()"
      ]
     },
     "execution_count": 107,
     "metadata": {},
     "output_type": "execute_result"
    }
   ],
   "source": [
    "#creates and trains logistic regression model\n",
    "log_reg = LogisticRegression()\n",
    "log_reg.fit(X_train, y_train.ravel())"
   ]
  },
  {
   "cell_type": "code",
   "execution_count": 108,
   "id": "168ea9ed",
   "metadata": {},
   "outputs": [
    {
     "data": {
      "text/plain": [
       "SVC(C=1, decision_function_shape='ovo', kernel='linear')"
      ]
     },
     "execution_count": 108,
     "metadata": {},
     "output_type": "execute_result"
    }
   ],
   "source": [
    "#creates and trains SVM model\n",
    "linear = svm.SVC(kernel='linear', C=1, decision_function_shape='ovo')\n",
    "linear.fit(X_train, y_train.ravel())"
   ]
  },
  {
   "cell_type": "code",
   "execution_count": 109,
   "id": "da1794e5",
   "metadata": {},
   "outputs": [
    {
     "data": {
      "text/plain": [
       "DecisionTreeClassifier()"
      ]
     },
     "execution_count": 109,
     "metadata": {},
     "output_type": "execute_result"
    }
   ],
   "source": [
    "#creates and trains decision tree model\n",
    "dt = DecisionTreeClassifier()\n",
    "dt.fit(X_train, y_train)"
   ]
  },
  {
   "cell_type": "code",
   "execution_count": 110,
   "id": "118ac5c3",
   "metadata": {},
   "outputs": [
    {
     "data": {
      "text/plain": [
       "RandomForestClassifier(n_estimators=10, random_state=1)"
      ]
     },
     "execution_count": 110,
     "metadata": {},
     "output_type": "execute_result"
    }
   ],
   "source": [
    "#creates and trains random forest model\n",
    "rf = RandomForestClassifier(n_estimators=10, criterion='gini',random_state=1)\n",
    "rf.fit(X_train,y_train.values.ravel())"
   ]
  },
  {
   "cell_type": "markdown",
   "id": "1c0486e5",
   "metadata": {},
   "source": [
    "# Cross-Validation"
   ]
  },
  {
   "cell_type": "code",
   "execution_count": 111,
   "id": "38ff993c",
   "metadata": {},
   "outputs": [],
   "source": [
    "#set up K-Fold validation\n",
    "folds = KFold(n_splits = 5)"
   ]
  },
  {
   "cell_type": "code",
   "execution_count": 112,
   "id": "88080168",
   "metadata": {},
   "outputs": [
    {
     "name": "stdout",
     "output_type": "stream",
     "text": [
      " Avg accuracy (KNN):0.6935262814003101\n"
     ]
    }
   ],
   "source": [
    "#cross-validate Gaussian Naive Bayes\n",
    "result1 = cross_val_score(knn, X_train, y_train.ravel(), cv = folds, scoring = 'accuracy')\n",
    "\n",
    "print(f' Avg accuracy (KNN):{result1.mean()}')"
   ]
  },
  {
   "cell_type": "code",
   "execution_count": 113,
   "id": "4a13f7db",
   "metadata": {},
   "outputs": [
    {
     "name": "stdout",
     "output_type": "stream",
     "text": [
      " Avg accuracy (GNB):0.6240233201342475\n"
     ]
    }
   ],
   "source": [
    "#cross-validate Gaussian Naive Bayes\n",
    "result2 = cross_val_score(gnb, X_train, y_train.ravel(), cv = folds, scoring = 'accuracy')\n",
    "\n",
    "print(f' Avg accuracy (GNB):{result2.mean()}')"
   ]
  },
  {
   "cell_type": "code",
   "execution_count": 114,
   "id": "6616f0e7",
   "metadata": {},
   "outputs": [
    {
     "name": "stdout",
     "output_type": "stream",
     "text": [
      " Avg accuracy (Logistic Regression):0.7171340850864325\n"
     ]
    }
   ],
   "source": [
    "#cross-validate logistic regression model\n",
    "result3 = cross_val_score(log_reg, X_train, y_train.ravel(), cv = folds, scoring = 'accuracy')\n",
    "\n",
    "print(f' Avg accuracy (Logistic Regression):{result3.mean()}')"
   ]
  },
  {
   "cell_type": "code",
   "execution_count": 115,
   "id": "8298bfa2",
   "metadata": {},
   "outputs": [
    {
     "name": "stdout",
     "output_type": "stream",
     "text": [
      " Avg accuracy (SVM):0.7163074475119855\n"
     ]
    }
   ],
   "source": [
    "#cross-validate SVM model\n",
    "result4 = cross_val_score(linear, X_train, y_train.ravel(), cv = folds, scoring = 'accuracy')\n",
    "\n",
    "print(f' Avg accuracy (SVM):{result4.mean()}')"
   ]
  },
  {
   "cell_type": "code",
   "execution_count": 116,
   "id": "ea76614d",
   "metadata": {},
   "outputs": [
    {
     "name": "stdout",
     "output_type": "stream",
     "text": [
      " Avg accuracy (Decision Tree):0.8126243209118478\n"
     ]
    }
   ],
   "source": [
    "#cross-validate decision tree model\n",
    "result5 = cross_val_score(dt, X_train, y_train.ravel(), cv = folds, scoring = 'accuracy')\n",
    "\n",
    "print(f' Avg accuracy (Decision Tree):{result5.mean()}')"
   ]
  },
  {
   "cell_type": "code",
   "execution_count": 117,
   "id": "3fd08ab8",
   "metadata": {},
   "outputs": [
    {
     "name": "stdout",
     "output_type": "stream",
     "text": [
      " Avg accuracy (Random Forest):0.8076645173324376\n"
     ]
    }
   ],
   "source": [
    "#cross-validate random forest model\n",
    "result6 = cross_val_score(rf, X_train, y_train.ravel(), cv = folds, scoring = 'accuracy')\n",
    "\n",
    "print(f' Avg accuracy (Random Forest):{result6.mean()}')"
   ]
  },
  {
   "cell_type": "code",
   "execution_count": 118,
   "id": "a02494b0",
   "metadata": {},
   "outputs": [
    {
     "data": {
      "image/png": "[encoded data removed]",
      "text/plain": [
       "<Figure size 1440x720 with 1 Axes>"
      ]
     },
     "metadata": {},
     "output_type": "display_data"
    }
   ],
   "source": [
    "x_axis = ['KNN', 'GNB', 'LogReg', 'SVM', 'DecTree', 'RanFor']\n",
    "y_axis = [result1.mean(), result2.mean(), result3.mean(), result4.mean(), result5.mean(), result6.mean()]\n",
    "sns.barplot(x_axis, y_axis, palette = 'husl').set(title = 'Cross Validation Scores')\n",
    "plt.gcf().set_size_inches(20, 10)\n",
    "plt.show()"
   ]
  },
  {
   "cell_type": "markdown",
   "id": "3439fdd7",
   "metadata": {},
   "source": [
    "# Predictions and Metrics"
   ]
  },
  {
   "cell_type": "code",
   "execution_count": 119,
   "id": "715da4ed",
   "metadata": {},
   "outputs": [],
   "source": [
    "#have models predict test set\n",
    "y_pred_knn = knn.predict(X_test)\n",
    "y_pred_gnb = gnb.predict(X_test)\n",
    "y_pred_log = log_reg.predict(X_test)\n",
    "y_pred_svm = linear.predict(X_test)\n",
    "y_pred_dt = dt.predict(X_test)\n",
    "y_pred_rf = rf.predict(X_test)"
   ]
  },
  {
   "cell_type": "code",
   "execution_count": 120,
   "id": "a020349b",
   "metadata": {},
   "outputs": [
    {
     "name": "stdout",
     "output_type": "stream",
     "text": [
      "              precision    recall  f1-score   support\n",
      "\n",
      "           0       0.75      0.83      0.79      8736\n",
      "           1       0.55      0.44      0.49      4227\n",
      "\n",
      "    accuracy                           0.70     12963\n",
      "   macro avg       0.65      0.63      0.64     12963\n",
      "weighted avg       0.69      0.70      0.69     12963\n",
      "\n"
     ]
    }
   ],
   "source": [
    "#classification report for KNN\n",
    "print(classification_report(y_test, y_pred_knn))"
   ]
  },
  {
   "cell_type": "code",
   "execution_count": 121,
   "id": "95d09200",
   "metadata": {},
   "outputs": [
    {
     "name": "stdout",
     "output_type": "stream",
     "text": [
      "              precision    recall  f1-score   support\n",
      "\n",
      "           0       0.77      0.67      0.72      8736\n",
      "           1       0.46      0.59      0.52      4227\n",
      "\n",
      "    accuracy                           0.64     12963\n",
      "   macro avg       0.62      0.63      0.62     12963\n",
      "weighted avg       0.67      0.64      0.65     12963\n",
      "\n"
     ]
    }
   ],
   "source": [
    "#classification report for GNB\n",
    "print(classification_report(y_test, y_pred_gnb))"
   ]
  },
  {
   "cell_type": "code",
   "execution_count": 122,
   "id": "269df28e",
   "metadata": {},
   "outputs": [
    {
     "name": "stdout",
     "output_type": "stream",
     "text": [
      "              precision    recall  f1-score   support\n",
      "\n",
      "           0       0.74      0.91      0.82      8736\n",
      "           1       0.65      0.33      0.44      4227\n",
      "\n",
      "    accuracy                           0.72     12963\n",
      "   macro avg       0.69      0.62      0.63     12963\n",
      "weighted avg       0.71      0.72      0.69     12963\n",
      "\n"
     ]
    }
   ],
   "source": [
    "#classification report for logistic regression\n",
    "print(classification_report(y_test, y_pred_log))"
   ]
  },
  {
   "cell_type": "code",
   "execution_count": 123,
   "id": "9982d1cc",
   "metadata": {},
   "outputs": [
    {
     "name": "stdout",
     "output_type": "stream",
     "text": [
      "              precision    recall  f1-score   support\n",
      "\n",
      "           0       0.74      0.91      0.82      8736\n",
      "           1       0.64      0.35      0.45      4227\n",
      "\n",
      "    accuracy                           0.72     12963\n",
      "   macro avg       0.69      0.63      0.63     12963\n",
      "weighted avg       0.71      0.72      0.70     12963\n",
      "\n"
     ]
    }
   ],
   "source": [
    "#classification report for SVM\n",
    "print(classification_report(y_test, y_pred_svm))"
   ]
  },
  {
   "cell_type": "code",
   "execution_count": 124,
   "id": "408c4208",
   "metadata": {},
   "outputs": [
    {
     "name": "stdout",
     "output_type": "stream",
     "text": [
      "              precision    recall  f1-score   support\n",
      "\n",
      "           0       0.88      0.87      0.88      8736\n",
      "           1       0.74      0.76      0.75      4227\n",
      "\n",
      "    accuracy                           0.83     12963\n",
      "   macro avg       0.81      0.82      0.81     12963\n",
      "weighted avg       0.84      0.83      0.83     12963\n",
      "\n"
     ]
    }
   ],
   "source": [
    "#classification report for decision tree\n",
    "print(classification_report(y_test, y_pred_dt,  target_names = ['positive', 'negative']))"
   ]
  },
  {
   "cell_type": "code",
   "execution_count": 125,
   "id": "42764049",
   "metadata": {
    "scrolled": true
   },
   "outputs": [
    {
     "name": "stdout",
     "output_type": "stream",
     "text": [
      "              precision    recall  f1-score   support\n",
      "\n",
      "           0       0.84      0.93      0.88      8736\n",
      "           1       0.82      0.63      0.72      4227\n",
      "\n",
      "    accuracy                           0.84     12963\n",
      "   macro avg       0.83      0.78      0.80     12963\n",
      "weighted avg       0.83      0.84      0.83     12963\n",
      "\n"
     ]
    }
   ],
   "source": [
    "#classification report for random forest\n",
    "print(classification_report(y_test, y_pred_rf))"
   ]
  },
  {
   "cell_type": "code",
   "execution_count": 126,
   "id": "725eae9a",
   "metadata": {},
   "outputs": [
    {
     "data": {
      "image/png": "[encoded data removed]",
      "text/plain": [
       "<Figure size 1440x216 with 1 Axes>"
      ]
     },
     "metadata": {},
     "output_type": "display_data"
    }
   ],
   "source": [
    "#source code taken from Prof. Jairam\n",
    "#generates comparative metrics graph\n",
    "X   = ['KNN','GNB','LOG-R','SVM', 'DT', 'RF']\n",
    "accuracy  = [.70, .64, .72, .72, .83, .84]\n",
    "precision = [.69, .67, .71, .71, .84, .83]\n",
    "recall    = [.70, .64, .72, .72, .83, .84]\n",
    "f1        = [.69, .65, .69, .70, .83, .83]\n",
    "\n",
    "X_axis = np.arange(len(X))\n",
    "\n",
    "spacing= 0.15\n",
    "\n",
    "plt.rcParams[\"figure.figsize\"] = (20,3)\n",
    "  \n",
    "plt.bar(X_axis, accuracy, 0.25, label = 'Accuracy')\n",
    "plt.bar(X_axis + spacing, precision, 0.25, label = 'Precision')\n",
    "plt.bar(X_axis + spacing *2, recall, 0.25, label = 'Recall')\n",
    "plt.bar(X_axis + spacing *3, f1, 0.25, label = 'F1')\n",
    "\n",
    "plt.xticks(X_axis, X)\n",
    "plt.xlabel(\"Model\")\n",
    "plt.ylabel(\"Weighted Avg\")\n",
    "plt.title(\"Model vs Weighted Avg Of Various Metrics\")\n",
    "plt.legend(loc='upper right')\n",
    "\n",
    "plt.show()"
   ]
  }
 ],
 "metadata": {
  "kernelspec": {
   "display_name": "Python 3 (ipykernel)",
   "language": "python",
   "name": "python3"
  },
  "language_info": {
   "codemirror_mode": {
    "name": "ipython",
    "version": 3
   },
   "file_extension": ".py",
   "mimetype": "text/x-python",
   "name": "python",
   "nbconvert_exporter": "python",
   "pygments_lexer": "ipython3",
   "version": "3.9.7"
  }
 },
 "nbformat": 4,
 "nbformat_minor": 5
}
